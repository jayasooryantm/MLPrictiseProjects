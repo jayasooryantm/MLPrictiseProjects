{
  "nbformat": 4,
  "nbformat_minor": 0,
  "metadata": {
    "colab": {
      "name": "Kinematics.ipynb",
      "provenance": []
    },
    "kernelspec": {
      "name": "python3",
      "display_name": "Python 3"
    }
  },
  "cells": [
    {
      "cell_type": "code",
      "metadata": {
        "id": "yU266JTqlQW0",
        "colab_type": "code",
        "colab": {}
      },
      "source": [
        "import pandas as pd"
      ],
      "execution_count": 0,
      "outputs": []
    },
    {
      "cell_type": "code",
      "metadata": {
        "id": "QSxoTPgUzVdj",
        "colab_type": "code",
        "colab": {}
      },
      "source": [
        "data = pd.read_csv('/content/run_or_walk.csv')"
      ],
      "execution_count": 0,
      "outputs": []
    },
    {
      "cell_type": "code",
      "metadata": {
        "id": "5jDyj1-033Cu",
        "colab_type": "code",
        "colab": {
          "base_uri": "https://localhost:8080/",
          "height": 204
        },
        "outputId": "3c7a62d3-4be6-49e9-d0d2-e625f3ab0695"
      },
      "source": [
        "data.head()"
      ],
      "execution_count": 3,
      "outputs": [
        {
          "output_type": "execute_result",
          "data": {
            "text/html": [
              "<div>\n",
              "<style scoped>\n",
              "    .dataframe tbody tr th:only-of-type {\n",
              "        vertical-align: middle;\n",
              "    }\n",
              "\n",
              "    .dataframe tbody tr th {\n",
              "        vertical-align: top;\n",
              "    }\n",
              "\n",
              "    .dataframe thead th {\n",
              "        text-align: right;\n",
              "    }\n",
              "</style>\n",
              "<table border=\"1\" class=\"dataframe\">\n",
              "  <thead>\n",
              "    <tr style=\"text-align: right;\">\n",
              "      <th></th>\n",
              "      <th>date</th>\n",
              "      <th>time</th>\n",
              "      <th>username</th>\n",
              "      <th>wrist</th>\n",
              "      <th>activity</th>\n",
              "      <th>acceleration_x</th>\n",
              "      <th>acceleration_y</th>\n",
              "      <th>acceleration_z</th>\n",
              "      <th>gyro_x</th>\n",
              "      <th>gyro_y</th>\n",
              "      <th>gyro_z</th>\n",
              "    </tr>\n",
              "  </thead>\n",
              "  <tbody>\n",
              "    <tr>\n",
              "      <th>0</th>\n",
              "      <td>2017-6-30</td>\n",
              "      <td>13:51:15:847724020</td>\n",
              "      <td>viktor</td>\n",
              "      <td>0</td>\n",
              "      <td>0</td>\n",
              "      <td>0.2650</td>\n",
              "      <td>-0.7814</td>\n",
              "      <td>-0.0076</td>\n",
              "      <td>-0.0590</td>\n",
              "      <td>0.0325</td>\n",
              "      <td>-2.9296</td>\n",
              "    </tr>\n",
              "    <tr>\n",
              "      <th>1</th>\n",
              "      <td>2017-6-30</td>\n",
              "      <td>13:51:16:246945023</td>\n",
              "      <td>viktor</td>\n",
              "      <td>0</td>\n",
              "      <td>0</td>\n",
              "      <td>0.6722</td>\n",
              "      <td>-1.1233</td>\n",
              "      <td>-0.2344</td>\n",
              "      <td>-0.1757</td>\n",
              "      <td>0.0208</td>\n",
              "      <td>0.1269</td>\n",
              "    </tr>\n",
              "    <tr>\n",
              "      <th>2</th>\n",
              "      <td>2017-6-30</td>\n",
              "      <td>13:51:16:446233987</td>\n",
              "      <td>viktor</td>\n",
              "      <td>0</td>\n",
              "      <td>0</td>\n",
              "      <td>0.4399</td>\n",
              "      <td>-1.4817</td>\n",
              "      <td>0.0722</td>\n",
              "      <td>-0.9105</td>\n",
              "      <td>0.1063</td>\n",
              "      <td>-2.4367</td>\n",
              "    </tr>\n",
              "    <tr>\n",
              "      <th>3</th>\n",
              "      <td>2017-6-30</td>\n",
              "      <td>13:51:16:646117985</td>\n",
              "      <td>viktor</td>\n",
              "      <td>0</td>\n",
              "      <td>0</td>\n",
              "      <td>0.3031</td>\n",
              "      <td>-0.8125</td>\n",
              "      <td>0.0888</td>\n",
              "      <td>0.1199</td>\n",
              "      <td>-0.4099</td>\n",
              "      <td>-2.9336</td>\n",
              "    </tr>\n",
              "    <tr>\n",
              "      <th>4</th>\n",
              "      <td>2017-6-30</td>\n",
              "      <td>13:51:16:846738994</td>\n",
              "      <td>viktor</td>\n",
              "      <td>0</td>\n",
              "      <td>0</td>\n",
              "      <td>0.4814</td>\n",
              "      <td>-0.9312</td>\n",
              "      <td>0.0359</td>\n",
              "      <td>0.0527</td>\n",
              "      <td>0.4379</td>\n",
              "      <td>2.4922</td>\n",
              "    </tr>\n",
              "  </tbody>\n",
              "</table>\n",
              "</div>"
            ],
            "text/plain": [
              "        date                time username  ...  gyro_x  gyro_y  gyro_z\n",
              "0  2017-6-30  13:51:15:847724020   viktor  ... -0.0590  0.0325 -2.9296\n",
              "1  2017-6-30  13:51:16:246945023   viktor  ... -0.1757  0.0208  0.1269\n",
              "2  2017-6-30  13:51:16:446233987   viktor  ... -0.9105  0.1063 -2.4367\n",
              "3  2017-6-30  13:51:16:646117985   viktor  ...  0.1199 -0.4099 -2.9336\n",
              "4  2017-6-30  13:51:16:846738994   viktor  ...  0.0527  0.4379  2.4922\n",
              "\n",
              "[5 rows x 11 columns]"
            ]
          },
          "metadata": {
            "tags": []
          },
          "execution_count": 3
        }
      ]
    },
    {
      "cell_type": "code",
      "metadata": {
        "id": "Ms51BVWJ34DD",
        "colab_type": "code",
        "colab": {
          "base_uri": "https://localhost:8080/",
          "height": 323
        },
        "outputId": "9b36765e-24bb-4b50-cdc9-cf72ecd9d969"
      },
      "source": [
        "data.info()"
      ],
      "execution_count": 4,
      "outputs": [
        {
          "output_type": "stream",
          "text": [
            "<class 'pandas.core.frame.DataFrame'>\n",
            "RangeIndex: 61589 entries, 0 to 61588\n",
            "Data columns (total 11 columns):\n",
            " #   Column          Non-Null Count  Dtype  \n",
            "---  ------          --------------  -----  \n",
            " 0   date            61589 non-null  object \n",
            " 1   time            61589 non-null  object \n",
            " 2   username        61589 non-null  object \n",
            " 3   wrist           61589 non-null  int64  \n",
            " 4   activity        61589 non-null  int64  \n",
            " 5   acceleration_x  61589 non-null  float64\n",
            " 6   acceleration_y  61589 non-null  float64\n",
            " 7   acceleration_z  61588 non-null  float64\n",
            " 8   gyro_x          61588 non-null  float64\n",
            " 9   gyro_y          61588 non-null  float64\n",
            " 10  gyro_z          61588 non-null  float64\n",
            "dtypes: float64(6), int64(2), object(3)\n",
            "memory usage: 5.2+ MB\n"
          ],
          "name": "stdout"
        }
      ]
    },
    {
      "cell_type": "code",
      "metadata": {
        "id": "0L3EsR_C345v",
        "colab_type": "code",
        "colab": {
          "base_uri": "https://localhost:8080/",
          "height": 221
        },
        "outputId": "984e7e1e-c112-4154-b90c-c2bde32e3543"
      },
      "source": [
        "data.isnull().sum()"
      ],
      "execution_count": 6,
      "outputs": [
        {
          "output_type": "execute_result",
          "data": {
            "text/plain": [
              "date              0\n",
              "time              0\n",
              "username          0\n",
              "wrist             0\n",
              "activity          0\n",
              "acceleration_x    0\n",
              "acceleration_y    0\n",
              "acceleration_z    1\n",
              "gyro_x            1\n",
              "gyro_y            1\n",
              "gyro_z            1\n",
              "dtype: int64"
            ]
          },
          "metadata": {
            "tags": []
          },
          "execution_count": 6
        }
      ]
    },
    {
      "cell_type": "code",
      "metadata": {
        "id": "_1GRUH_G8SOm",
        "colab_type": "code",
        "colab": {}
      },
      "source": [
        "data.dropna(how='any',axis=0,inplace=True)"
      ],
      "execution_count": 0,
      "outputs": []
    },
    {
      "cell_type": "code",
      "metadata": {
        "id": "jI6lUSFP54Y5",
        "colab_type": "code",
        "colab": {}
      },
      "source": [
        "features = data.iloc[:,5:].values"
      ],
      "execution_count": 0,
      "outputs": []
    },
    {
      "cell_type": "code",
      "metadata": {
        "id": "7FGAFEi26Bug",
        "colab_type": "code",
        "colab": {}
      },
      "source": [
        "target = data['activity'].values"
      ],
      "execution_count": 0,
      "outputs": []
    },
    {
      "cell_type": "code",
      "metadata": {
        "id": "syAu7LAS7tfr",
        "colab_type": "code",
        "colab": {
          "base_uri": "https://localhost:8080/",
          "height": 136
        },
        "outputId": "128a8de4-a04d-4c4f-8833-5b887d92c9ed"
      },
      "source": [
        "features"
      ],
      "execution_count": 39,
      "outputs": [
        {
          "output_type": "execute_result",
          "data": {
            "text/plain": [
              "array([[ 0.265 , -0.7814, -0.0076, -0.059 ,  0.0325, -2.9296],\n",
              "       [ 0.6722, -1.1233, -0.2344, -0.1757,  0.0208,  0.1269],\n",
              "       [ 0.4399, -1.4817,  0.0722, -0.9105,  0.1063, -2.4367],\n",
              "       ...,\n",
              "       [ 2.071 , -1.1918, -2.2017,  0.7333, -0.7552,  2.8838],\n",
              "       [-0.0275,  0.7391, -0.2234, -0.5155,  0.1383,  0.0424],\n",
              "       [ 2.2921,  0.5997, -2.1616, -0.1578, -0.6083, -2.435 ]])"
            ]
          },
          "metadata": {
            "tags": []
          },
          "execution_count": 39
        }
      ]
    },
    {
      "cell_type": "code",
      "metadata": {
        "id": "gqFvV_OB7tzM",
        "colab_type": "code",
        "colab": {
          "base_uri": "https://localhost:8080/",
          "height": 34
        },
        "outputId": "88885c8e-f200-466c-8f93-f40d563dfe1a"
      },
      "source": [
        "target"
      ],
      "execution_count": 40,
      "outputs": [
        {
          "output_type": "execute_result",
          "data": {
            "text/plain": [
              "array([0, 0, 0, ..., 1, 1, 1])"
            ]
          },
          "metadata": {
            "tags": []
          },
          "execution_count": 40
        }
      ]
    },
    {
      "cell_type": "code",
      "metadata": {
        "id": "BFcDXBAy36z2",
        "colab_type": "code",
        "colab": {}
      },
      "source": [
        "from sklearn.model_selection import train_test_split"
      ],
      "execution_count": 0,
      "outputs": []
    },
    {
      "cell_type": "code",
      "metadata": {
        "id": "T9mWbg-f5jm4",
        "colab_type": "code",
        "colab": {}
      },
      "source": [
        "x_train,x_test,y_train,y_test = train_test_split(features,target,test_size=0.25,random_state=42)"
      ],
      "execution_count": 0,
      "outputs": []
    },
    {
      "cell_type": "code",
      "metadata": {
        "id": "6QAFsT9d7Ws9",
        "colab_type": "code",
        "colab": {
          "base_uri": "https://localhost:8080/",
          "height": 153
        },
        "outputId": "bd8becc2-8bcd-4598-e0e8-742468544f0e"
      },
      "source": [
        "x_train,y_train"
      ],
      "execution_count": 43,
      "outputs": [
        {
          "output_type": "execute_result",
          "data": {
            "text/plain": [
              "(array([[-0.3729, -0.7344, -0.2294,  1.5221, -0.3384, -2.9578],\n",
              "        [-0.2266, -0.599 , -0.1764, -0.4725, -0.136 ,  0.3216],\n",
              "        [-0.0147, -0.8669,  0.037 , -0.1255,  0.6441, -0.0773],\n",
              "        ...,\n",
              "        [-0.4821, -0.5633,  0.0581,  0.4138,  0.5662,  0.6665],\n",
              "        [-0.4902,  0.421 , -0.1457,  2.119 , -0.1988,  4.0985],\n",
              "        [ 0.2372, -0.8371, -0.0146, -0.7447, -0.1066, -1.4651]]),\n",
              " array([0, 0, 1, ..., 1, 1, 0]))"
            ]
          },
          "metadata": {
            "tags": []
          },
          "execution_count": 43
        }
      ]
    },
    {
      "cell_type": "code",
      "metadata": {
        "id": "H1P_cuoZ6PeD",
        "colab_type": "code",
        "colab": {}
      },
      "source": [
        "from sklearn.naive_bayes import GaussianNB\n",
        "classifier = GaussianNB()"
      ],
      "execution_count": 0,
      "outputs": []
    },
    {
      "cell_type": "code",
      "metadata": {
        "id": "YErDTLTM6n_H",
        "colab_type": "code",
        "colab": {
          "base_uri": "https://localhost:8080/",
          "height": 34
        },
        "outputId": "0f97ed58-6049-4c25-8731-4b3647d51bcd"
      },
      "source": [
        "classifier.fit(x_train,y_train)"
      ],
      "execution_count": 45,
      "outputs": [
        {
          "output_type": "execute_result",
          "data": {
            "text/plain": [
              "GaussianNB(priors=None, var_smoothing=1e-09)"
            ]
          },
          "metadata": {
            "tags": []
          },
          "execution_count": 45
        }
      ]
    },
    {
      "cell_type": "code",
      "metadata": {
        "id": "3Lq_2wVw7B93",
        "colab_type": "code",
        "colab": {}
      },
      "source": [
        "y_predict = classifier.predict(x_test)"
      ],
      "execution_count": 0,
      "outputs": []
    },
    {
      "cell_type": "code",
      "metadata": {
        "id": "3YFGa1LI8j6l",
        "colab_type": "code",
        "colab": {}
      },
      "source": [
        "import sklearn.metrics as mt"
      ],
      "execution_count": 0,
      "outputs": []
    },
    {
      "cell_type": "code",
      "metadata": {
        "id": "uT7pIQBu8quB",
        "colab_type": "code",
        "colab": {
          "base_uri": "https://localhost:8080/",
          "height": 34
        },
        "outputId": "c4fe4fa8-25ac-41ca-c916-41a67eda991a"
      },
      "source": [
        "print('Accuracy score : ',mt.accuracy_score(y_test,y_predict) * 100, '%')"
      ],
      "execution_count": 49,
      "outputs": [
        {
          "output_type": "stream",
          "text": [
            "Accuracy score :  97.18776385010067 %\n"
          ],
          "name": "stdout"
        }
      ]
    },
    {
      "cell_type": "code",
      "metadata": {
        "id": "vscr9nZJ80qk",
        "colab_type": "code",
        "colab": {}
      },
      "source": [
        "target_names = [\"Walk\",\"Run\"]"
      ],
      "execution_count": 0,
      "outputs": []
    },
    {
      "cell_type": "code",
      "metadata": {
        "id": "3hx_-EqT9Iis",
        "colab_type": "code",
        "colab": {
          "base_uri": "https://localhost:8080/",
          "height": 170
        },
        "outputId": "61c94ebd-08ec-421d-fe58-0c92c6dd1d72"
      },
      "source": [
        "print(mt.classification_report(y_test, y_predict, target_names=target_names))"
      ],
      "execution_count": 52,
      "outputs": [
        {
          "output_type": "stream",
          "text": [
            "              precision    recall  f1-score   support\n",
            "\n",
            "        Walk       0.96      0.99      0.98      8564\n",
            "         Run       0.99      0.94      0.97      6833\n",
            "\n",
            "    accuracy                           0.97     15397\n",
            "   macro avg       0.97      0.97      0.97     15397\n",
            "weighted avg       0.97      0.97      0.97     15397\n",
            "\n"
          ],
          "name": "stdout"
        }
      ]
    },
    {
      "cell_type": "code",
      "metadata": {
        "id": "t1YVn0Du9PTj",
        "colab_type": "code",
        "colab": {}
      },
      "source": [
        "features, target = data.iloc[:, [5,6,7]].values,data.iloc[:, 4].values"
      ],
      "execution_count": 0,
      "outputs": []
    },
    {
      "cell_type": "code",
      "metadata": {
        "id": "lpMcEvyC9rRk",
        "colab_type": "code",
        "colab": {}
      },
      "source": [
        "x_train,x_test,y_train,y_test = train_test_split(features,target,test_size=0.25,random_state=42)"
      ],
      "execution_count": 0,
      "outputs": []
    },
    {
      "cell_type": "code",
      "metadata": {
        "id": "JkAfPARp9tfM",
        "colab_type": "code",
        "colab": {
          "base_uri": "https://localhost:8080/",
          "height": 34
        },
        "outputId": "7bc1795d-353c-4e30-92eb-f7d953e205b8"
      },
      "source": [
        "classifier.fit(x_train,y_train)"
      ],
      "execution_count": 55,
      "outputs": [
        {
          "output_type": "execute_result",
          "data": {
            "text/plain": [
              "GaussianNB(priors=None, var_smoothing=1e-09)"
            ]
          },
          "metadata": {
            "tags": []
          },
          "execution_count": 55
        }
      ]
    },
    {
      "cell_type": "code",
      "metadata": {
        "id": "iQ1nnibS9vhg",
        "colab_type": "code",
        "colab": {}
      },
      "source": [
        "y_predict = classifier.predict(x_test)"
      ],
      "execution_count": 0,
      "outputs": []
    },
    {
      "cell_type": "code",
      "metadata": {
        "id": "WO8i_LkV9wtL",
        "colab_type": "code",
        "colab": {
          "base_uri": "https://localhost:8080/",
          "height": 34
        },
        "outputId": "153fa3b3-c0fd-45d5-e3c1-f625f8a566d2"
      },
      "source": [
        "print('Accuracy score : ',mt.accuracy_score(y_test,y_predict) * 100, '%')"
      ],
      "execution_count": 57,
      "outputs": [
        {
          "output_type": "stream",
          "text": [
            "Accuracy score :  97.36312268623757 %\n"
          ],
          "name": "stdout"
        }
      ]
    },
    {
      "cell_type": "code",
      "metadata": {
        "id": "RpU6o6629zuY",
        "colab_type": "code",
        "colab": {
          "base_uri": "https://localhost:8080/",
          "height": 68
        },
        "outputId": "23d6c3aa-6981-424c-c935-4bb891abb939"
      },
      "source": [
        "print('Confusion Matrix :')\n",
        "print(mt.confusion_matrix(y_test,y_predict))"
      ],
      "execution_count": 58,
      "outputs": [
        {
          "output_type": "stream",
          "text": [
            "Confusion Matrix :\n",
            "[[8525   39]\n",
            " [ 367 6466]]\n"
          ],
          "name": "stdout"
        }
      ]
    },
    {
      "cell_type": "code",
      "metadata": {
        "id": "GfHfDIJi-HdR",
        "colab_type": "code",
        "colab": {}
      },
      "source": [
        ""
      ],
      "execution_count": 0,
      "outputs": []
    }
  ]
}