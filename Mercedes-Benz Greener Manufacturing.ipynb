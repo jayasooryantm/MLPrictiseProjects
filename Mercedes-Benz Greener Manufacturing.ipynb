{
 "cells": [
  {
   "cell_type": "code",
   "execution_count": 52,
   "metadata": {},
   "outputs": [],
   "source": [
    "import pandas as pd\n",
    "import numpy as np\n",
    "from sklearn.model_selection import train_test_split\n",
    "from sklearn.preprocessing import LabelEncoder\n",
    "from sklearn.decomposition import PCA\n",
    "from xgboost import XGBRegressor as xgb\n",
    "from sklearn.metrics import mean_squared_error\n",
    "import seaborn as sns\n",
    "import matplotlib.pyplot\n",
    "%matplotlib inline"
   ]
  },
  {
   "cell_type": "code",
   "execution_count": 5,
   "metadata": {},
   "outputs": [],
   "source": [
    "train_data = pd.read_csv('train.csv')\n",
    "test_data = pd.read_csv('test.csv')"
   ]
  },
  {
   "cell_type": "code",
   "execution_count": 6,
   "metadata": {},
   "outputs": [
    {
     "output_type": "execute_result",
     "data": {
      "text/plain": "                ID            y          X10     X11          X12  \\\ncount  4209.000000  4209.000000  4209.000000  4209.0  4209.000000   \nmean   4205.960798   100.669318     0.013305     0.0     0.075077   \nstd    2437.608688    12.679381     0.114590     0.0     0.263547   \nmin       0.000000    72.110000     0.000000     0.0     0.000000   \n25%    2095.000000    90.820000     0.000000     0.0     0.000000   \n50%    4220.000000    99.150000     0.000000     0.0     0.000000   \n75%    6314.000000   109.010000     0.000000     0.0     0.000000   \nmax    8417.000000   265.320000     1.000000     0.0     1.000000   \n\n               X13          X14          X15          X16          X17  ...  \\\ncount  4209.000000  4209.000000  4209.000000  4209.000000  4209.000000  ...   \nmean      0.057971     0.428130     0.000475     0.002613     0.007603  ...   \nstd       0.233716     0.494867     0.021796     0.051061     0.086872  ...   \nmin       0.000000     0.000000     0.000000     0.000000     0.000000  ...   \n25%       0.000000     0.000000     0.000000     0.000000     0.000000  ...   \n50%       0.000000     0.000000     0.000000     0.000000     0.000000  ...   \n75%       0.000000     1.000000     0.000000     0.000000     0.000000  ...   \nmax       1.000000     1.000000     1.000000     1.000000     1.000000  ...   \n\n              X375         X376         X377         X378         X379  \\\ncount  4209.000000  4209.000000  4209.000000  4209.000000  4209.000000   \nmean      0.318841     0.057258     0.314802     0.020670     0.009503   \nstd       0.466082     0.232363     0.464492     0.142294     0.097033   \nmin       0.000000     0.000000     0.000000     0.000000     0.000000   \n25%       0.000000     0.000000     0.000000     0.000000     0.000000   \n50%       0.000000     0.000000     0.000000     0.000000     0.000000   \n75%       1.000000     0.000000     1.000000     0.000000     0.000000   \nmax       1.000000     1.000000     1.000000     1.000000     1.000000   \n\n              X380         X382         X383         X384         X385  \ncount  4209.000000  4209.000000  4209.000000  4209.000000  4209.000000  \nmean      0.008078     0.007603     0.001663     0.000475     0.001426  \nstd       0.089524     0.086872     0.040752     0.021796     0.037734  \nmin       0.000000     0.000000     0.000000     0.000000     0.000000  \n25%       0.000000     0.000000     0.000000     0.000000     0.000000  \n50%       0.000000     0.000000     0.000000     0.000000     0.000000  \n75%       0.000000     0.000000     0.000000     0.000000     0.000000  \nmax       1.000000     1.000000     1.000000     1.000000     1.000000  \n\n[8 rows x 370 columns]",
      "text/html": "<div>\n<style scoped>\n    .dataframe tbody tr th:only-of-type {\n        vertical-align: middle;\n    }\n\n    .dataframe tbody tr th {\n        vertical-align: top;\n    }\n\n    .dataframe thead th {\n        text-align: right;\n    }\n</style>\n<table border=\"1\" class=\"dataframe\">\n  <thead>\n    <tr style=\"text-align: right;\">\n      <th></th>\n      <th>ID</th>\n      <th>y</th>\n      <th>X10</th>\n      <th>X11</th>\n      <th>X12</th>\n      <th>X13</th>\n      <th>X14</th>\n      <th>X15</th>\n      <th>X16</th>\n      <th>X17</th>\n      <th>...</th>\n      <th>X375</th>\n      <th>X376</th>\n      <th>X377</th>\n      <th>X378</th>\n      <th>X379</th>\n      <th>X380</th>\n      <th>X382</th>\n      <th>X383</th>\n      <th>X384</th>\n      <th>X385</th>\n    </tr>\n  </thead>\n  <tbody>\n    <tr>\n      <th>count</th>\n      <td>4209.000000</td>\n      <td>4209.000000</td>\n      <td>4209.000000</td>\n      <td>4209.0</td>\n      <td>4209.000000</td>\n      <td>4209.000000</td>\n      <td>4209.000000</td>\n      <td>4209.000000</td>\n      <td>4209.000000</td>\n      <td>4209.000000</td>\n      <td>...</td>\n      <td>4209.000000</td>\n      <td>4209.000000</td>\n      <td>4209.000000</td>\n      <td>4209.000000</td>\n      <td>4209.000000</td>\n      <td>4209.000000</td>\n      <td>4209.000000</td>\n      <td>4209.000000</td>\n      <td>4209.000000</td>\n      <td>4209.000000</td>\n    </tr>\n    <tr>\n      <th>mean</th>\n      <td>4205.960798</td>\n      <td>100.669318</td>\n      <td>0.013305</td>\n      <td>0.0</td>\n      <td>0.075077</td>\n      <td>0.057971</td>\n      <td>0.428130</td>\n      <td>0.000475</td>\n      <td>0.002613</td>\n      <td>0.007603</td>\n      <td>...</td>\n      <td>0.318841</td>\n      <td>0.057258</td>\n      <td>0.314802</td>\n      <td>0.020670</td>\n      <td>0.009503</td>\n      <td>0.008078</td>\n      <td>0.007603</td>\n      <td>0.001663</td>\n      <td>0.000475</td>\n      <td>0.001426</td>\n    </tr>\n    <tr>\n      <th>std</th>\n      <td>2437.608688</td>\n      <td>12.679381</td>\n      <td>0.114590</td>\n      <td>0.0</td>\n      <td>0.263547</td>\n      <td>0.233716</td>\n      <td>0.494867</td>\n      <td>0.021796</td>\n      <td>0.051061</td>\n      <td>0.086872</td>\n      <td>...</td>\n      <td>0.466082</td>\n      <td>0.232363</td>\n      <td>0.464492</td>\n      <td>0.142294</td>\n      <td>0.097033</td>\n      <td>0.089524</td>\n      <td>0.086872</td>\n      <td>0.040752</td>\n      <td>0.021796</td>\n      <td>0.037734</td>\n    </tr>\n    <tr>\n      <th>min</th>\n      <td>0.000000</td>\n      <td>72.110000</td>\n      <td>0.000000</td>\n      <td>0.0</td>\n      <td>0.000000</td>\n      <td>0.000000</td>\n      <td>0.000000</td>\n      <td>0.000000</td>\n      <td>0.000000</td>\n      <td>0.000000</td>\n      <td>...</td>\n      <td>0.000000</td>\n      <td>0.000000</td>\n      <td>0.000000</td>\n      <td>0.000000</td>\n      <td>0.000000</td>\n      <td>0.000000</td>\n      <td>0.000000</td>\n      <td>0.000000</td>\n      <td>0.000000</td>\n      <td>0.000000</td>\n    </tr>\n    <tr>\n      <th>25%</th>\n      <td>2095.000000</td>\n      <td>90.820000</td>\n      <td>0.000000</td>\n      <td>0.0</td>\n      <td>0.000000</td>\n      <td>0.000000</td>\n      <td>0.000000</td>\n      <td>0.000000</td>\n      <td>0.000000</td>\n      <td>0.000000</td>\n      <td>...</td>\n      <td>0.000000</td>\n      <td>0.000000</td>\n      <td>0.000000</td>\n      <td>0.000000</td>\n      <td>0.000000</td>\n      <td>0.000000</td>\n      <td>0.000000</td>\n      <td>0.000000</td>\n      <td>0.000000</td>\n      <td>0.000000</td>\n    </tr>\n    <tr>\n      <th>50%</th>\n      <td>4220.000000</td>\n      <td>99.150000</td>\n      <td>0.000000</td>\n      <td>0.0</td>\n      <td>0.000000</td>\n      <td>0.000000</td>\n      <td>0.000000</td>\n      <td>0.000000</td>\n      <td>0.000000</td>\n      <td>0.000000</td>\n      <td>...</td>\n      <td>0.000000</td>\n      <td>0.000000</td>\n      <td>0.000000</td>\n      <td>0.000000</td>\n      <td>0.000000</td>\n      <td>0.000000</td>\n      <td>0.000000</td>\n      <td>0.000000</td>\n      <td>0.000000</td>\n      <td>0.000000</td>\n    </tr>\n    <tr>\n      <th>75%</th>\n      <td>6314.000000</td>\n      <td>109.010000</td>\n      <td>0.000000</td>\n      <td>0.0</td>\n      <td>0.000000</td>\n      <td>0.000000</td>\n      <td>1.000000</td>\n      <td>0.000000</td>\n      <td>0.000000</td>\n      <td>0.000000</td>\n      <td>...</td>\n      <td>1.000000</td>\n      <td>0.000000</td>\n      <td>1.000000</td>\n      <td>0.000000</td>\n      <td>0.000000</td>\n      <td>0.000000</td>\n      <td>0.000000</td>\n      <td>0.000000</td>\n      <td>0.000000</td>\n      <td>0.000000</td>\n    </tr>\n    <tr>\n      <th>max</th>\n      <td>8417.000000</td>\n      <td>265.320000</td>\n      <td>1.000000</td>\n      <td>0.0</td>\n      <td>1.000000</td>\n      <td>1.000000</td>\n      <td>1.000000</td>\n      <td>1.000000</td>\n      <td>1.000000</td>\n      <td>1.000000</td>\n      <td>...</td>\n      <td>1.000000</td>\n      <td>1.000000</td>\n      <td>1.000000</td>\n      <td>1.000000</td>\n      <td>1.000000</td>\n      <td>1.000000</td>\n      <td>1.000000</td>\n      <td>1.000000</td>\n      <td>1.000000</td>\n      <td>1.000000</td>\n    </tr>\n  </tbody>\n</table>\n<p>8 rows × 370 columns</p>\n</div>"
     },
     "metadata": {},
     "execution_count": 6
    }
   ],
   "source": [
    "train_data.describe()"
   ]
  },
  {
   "cell_type": "code",
   "execution_count": 7,
   "metadata": {},
   "outputs": [
    {
     "output_type": "execute_result",
     "data": {
      "text/plain": "                ID          X10          X11          X12          X13  \\\ncount  4209.000000  4209.000000  4209.000000  4209.000000  4209.000000   \nmean   4211.039202     0.019007     0.000238     0.074364     0.061060   \nstd    2423.078926     0.136565     0.015414     0.262394     0.239468   \nmin       1.000000     0.000000     0.000000     0.000000     0.000000   \n25%    2115.000000     0.000000     0.000000     0.000000     0.000000   \n50%    4202.000000     0.000000     0.000000     0.000000     0.000000   \n75%    6310.000000     0.000000     0.000000     0.000000     0.000000   \nmax    8416.000000     1.000000     1.000000     1.000000     1.000000   \n\n               X14          X15          X16          X17          X18  ...  \\\ncount  4209.000000  4209.000000  4209.000000  4209.000000  4209.000000  ...   \nmean      0.427893     0.000713     0.002613     0.008791     0.010216  ...   \nstd       0.494832     0.026691     0.051061     0.093357     0.100570  ...   \nmin       0.000000     0.000000     0.000000     0.000000     0.000000  ...   \n25%       0.000000     0.000000     0.000000     0.000000     0.000000  ...   \n50%       0.000000     0.000000     0.000000     0.000000     0.000000  ...   \n75%       1.000000     0.000000     0.000000     0.000000     0.000000  ...   \nmax       1.000000     1.000000     1.000000     1.000000     1.000000  ...   \n\n              X375         X376         X377         X378         X379  \\\ncount  4209.000000  4209.000000  4209.000000  4209.000000  4209.000000   \nmean      0.325968     0.049656     0.311951     0.019244     0.011879   \nstd       0.468791     0.217258     0.463345     0.137399     0.108356   \nmin       0.000000     0.000000     0.000000     0.000000     0.000000   \n25%       0.000000     0.000000     0.000000     0.000000     0.000000   \n50%       0.000000     0.000000     0.000000     0.000000     0.000000   \n75%       1.000000     0.000000     1.000000     0.000000     0.000000   \nmax       1.000000     1.000000     1.000000     1.000000     1.000000   \n\n              X380         X382         X383         X384         X385  \ncount  4209.000000  4209.000000  4209.000000  4209.000000  4209.000000  \nmean      0.008078     0.008791     0.000475     0.000713     0.001663  \nstd       0.089524     0.093357     0.021796     0.026691     0.040752  \nmin       0.000000     0.000000     0.000000     0.000000     0.000000  \n25%       0.000000     0.000000     0.000000     0.000000     0.000000  \n50%       0.000000     0.000000     0.000000     0.000000     0.000000  \n75%       0.000000     0.000000     0.000000     0.000000     0.000000  \nmax       1.000000     1.000000     1.000000     1.000000     1.000000  \n\n[8 rows x 369 columns]",
      "text/html": "<div>\n<style scoped>\n    .dataframe tbody tr th:only-of-type {\n        vertical-align: middle;\n    }\n\n    .dataframe tbody tr th {\n        vertical-align: top;\n    }\n\n    .dataframe thead th {\n        text-align: right;\n    }\n</style>\n<table border=\"1\" class=\"dataframe\">\n  <thead>\n    <tr style=\"text-align: right;\">\n      <th></th>\n      <th>ID</th>\n      <th>X10</th>\n      <th>X11</th>\n      <th>X12</th>\n      <th>X13</th>\n      <th>X14</th>\n      <th>X15</th>\n      <th>X16</th>\n      <th>X17</th>\n      <th>X18</th>\n      <th>...</th>\n      <th>X375</th>\n      <th>X376</th>\n      <th>X377</th>\n      <th>X378</th>\n      <th>X379</th>\n      <th>X380</th>\n      <th>X382</th>\n      <th>X383</th>\n      <th>X384</th>\n      <th>X385</th>\n    </tr>\n  </thead>\n  <tbody>\n    <tr>\n      <th>count</th>\n      <td>4209.000000</td>\n      <td>4209.000000</td>\n      <td>4209.000000</td>\n      <td>4209.000000</td>\n      <td>4209.000000</td>\n      <td>4209.000000</td>\n      <td>4209.000000</td>\n      <td>4209.000000</td>\n      <td>4209.000000</td>\n      <td>4209.000000</td>\n      <td>...</td>\n      <td>4209.000000</td>\n      <td>4209.000000</td>\n      <td>4209.000000</td>\n      <td>4209.000000</td>\n      <td>4209.000000</td>\n      <td>4209.000000</td>\n      <td>4209.000000</td>\n      <td>4209.000000</td>\n      <td>4209.000000</td>\n      <td>4209.000000</td>\n    </tr>\n    <tr>\n      <th>mean</th>\n      <td>4211.039202</td>\n      <td>0.019007</td>\n      <td>0.000238</td>\n      <td>0.074364</td>\n      <td>0.061060</td>\n      <td>0.427893</td>\n      <td>0.000713</td>\n      <td>0.002613</td>\n      <td>0.008791</td>\n      <td>0.010216</td>\n      <td>...</td>\n      <td>0.325968</td>\n      <td>0.049656</td>\n      <td>0.311951</td>\n      <td>0.019244</td>\n      <td>0.011879</td>\n      <td>0.008078</td>\n      <td>0.008791</td>\n      <td>0.000475</td>\n      <td>0.000713</td>\n      <td>0.001663</td>\n    </tr>\n    <tr>\n      <th>std</th>\n      <td>2423.078926</td>\n      <td>0.136565</td>\n      <td>0.015414</td>\n      <td>0.262394</td>\n      <td>0.239468</td>\n      <td>0.494832</td>\n      <td>0.026691</td>\n      <td>0.051061</td>\n      <td>0.093357</td>\n      <td>0.100570</td>\n      <td>...</td>\n      <td>0.468791</td>\n      <td>0.217258</td>\n      <td>0.463345</td>\n      <td>0.137399</td>\n      <td>0.108356</td>\n      <td>0.089524</td>\n      <td>0.093357</td>\n      <td>0.021796</td>\n      <td>0.026691</td>\n      <td>0.040752</td>\n    </tr>\n    <tr>\n      <th>min</th>\n      <td>1.000000</td>\n      <td>0.000000</td>\n      <td>0.000000</td>\n      <td>0.000000</td>\n      <td>0.000000</td>\n      <td>0.000000</td>\n      <td>0.000000</td>\n      <td>0.000000</td>\n      <td>0.000000</td>\n      <td>0.000000</td>\n      <td>...</td>\n      <td>0.000000</td>\n      <td>0.000000</td>\n      <td>0.000000</td>\n      <td>0.000000</td>\n      <td>0.000000</td>\n      <td>0.000000</td>\n      <td>0.000000</td>\n      <td>0.000000</td>\n      <td>0.000000</td>\n      <td>0.000000</td>\n    </tr>\n    <tr>\n      <th>25%</th>\n      <td>2115.000000</td>\n      <td>0.000000</td>\n      <td>0.000000</td>\n      <td>0.000000</td>\n      <td>0.000000</td>\n      <td>0.000000</td>\n      <td>0.000000</td>\n      <td>0.000000</td>\n      <td>0.000000</td>\n      <td>0.000000</td>\n      <td>...</td>\n      <td>0.000000</td>\n      <td>0.000000</td>\n      <td>0.000000</td>\n      <td>0.000000</td>\n      <td>0.000000</td>\n      <td>0.000000</td>\n      <td>0.000000</td>\n      <td>0.000000</td>\n      <td>0.000000</td>\n      <td>0.000000</td>\n    </tr>\n    <tr>\n      <th>50%</th>\n      <td>4202.000000</td>\n      <td>0.000000</td>\n      <td>0.000000</td>\n      <td>0.000000</td>\n      <td>0.000000</td>\n      <td>0.000000</td>\n      <td>0.000000</td>\n      <td>0.000000</td>\n      <td>0.000000</td>\n      <td>0.000000</td>\n      <td>...</td>\n      <td>0.000000</td>\n      <td>0.000000</td>\n      <td>0.000000</td>\n      <td>0.000000</td>\n      <td>0.000000</td>\n      <td>0.000000</td>\n      <td>0.000000</td>\n      <td>0.000000</td>\n      <td>0.000000</td>\n      <td>0.000000</td>\n    </tr>\n    <tr>\n      <th>75%</th>\n      <td>6310.000000</td>\n      <td>0.000000</td>\n      <td>0.000000</td>\n      <td>0.000000</td>\n      <td>0.000000</td>\n      <td>1.000000</td>\n      <td>0.000000</td>\n      <td>0.000000</td>\n      <td>0.000000</td>\n      <td>0.000000</td>\n      <td>...</td>\n      <td>1.000000</td>\n      <td>0.000000</td>\n      <td>1.000000</td>\n      <td>0.000000</td>\n      <td>0.000000</td>\n      <td>0.000000</td>\n      <td>0.000000</td>\n      <td>0.000000</td>\n      <td>0.000000</td>\n      <td>0.000000</td>\n    </tr>\n    <tr>\n      <th>max</th>\n      <td>8416.000000</td>\n      <td>1.000000</td>\n      <td>1.000000</td>\n      <td>1.000000</td>\n      <td>1.000000</td>\n      <td>1.000000</td>\n      <td>1.000000</td>\n      <td>1.000000</td>\n      <td>1.000000</td>\n      <td>1.000000</td>\n      <td>...</td>\n      <td>1.000000</td>\n      <td>1.000000</td>\n      <td>1.000000</td>\n      <td>1.000000</td>\n      <td>1.000000</td>\n      <td>1.000000</td>\n      <td>1.000000</td>\n      <td>1.000000</td>\n      <td>1.000000</td>\n      <td>1.000000</td>\n    </tr>\n  </tbody>\n</table>\n<p>8 rows × 369 columns</p>\n</div>"
     },
     "metadata": {},
     "execution_count": 7
    }
   ],
   "source": [
    "test_data.describe()"
   ]
  },
  {
   "cell_type": "code",
   "execution_count": 8,
   "metadata": {},
   "outputs": [
    {
     "output_type": "execute_result",
     "data": {
      "text/plain": "((4209, 378), (4209, 377))"
     },
     "metadata": {},
     "execution_count": 8
    }
   ],
   "source": [
    "train_data.shape, test_data.shape"
   ]
  },
  {
   "cell_type": "code",
   "execution_count": 13,
   "metadata": {},
   "outputs": [
    {
     "output_type": "stream",
     "name": "stdout",
     "text": "Number of null values in train data:  0\nNumber of null values in test data:  0\n"
    }
   ],
   "source": [
    "print('Number of null values in train data: ',np.sum(train_data.isnull().sum()))\n",
    "print('Number of null values in test data: ',np.sum(test_data.isnull().sum()))"
   ]
  },
  {
   "cell_type": "code",
   "execution_count": 14,
   "metadata": {},
   "outputs": [],
   "source": [
    "train_data.drop('ID',axis=1,inplace=True)\n",
    "test_data.drop('ID',axis=1,inplace=True)"
   ]
  },
  {
   "cell_type": "code",
   "execution_count": 15,
   "metadata": {},
   "outputs": [
    {
     "output_type": "execute_result",
     "data": {
      "text/plain": "        y  X0 X1  X2 X3 X4 X5 X6 X8  X10  ...  X375  X376  X377  X378  X379  \\\n0  130.81   k  v  at  a  d  u  j  o    0  ...     0     0     1     0     0   \n1   88.53   k  t  av  e  d  y  l  o    0  ...     1     0     0     0     0   \n2   76.26  az  w   n  c  d  x  j  x    0  ...     0     0     0     0     0   \n3   80.62  az  t   n  f  d  x  l  e    0  ...     0     0     0     0     0   \n4   78.02  az  v   n  f  d  h  d  n    0  ...     0     0     0     0     0   \n\n   X380  X382  X383  X384  X385  \n0     0     0     0     0     0  \n1     0     0     0     0     0  \n2     0     1     0     0     0  \n3     0     0     0     0     0  \n4     0     0     0     0     0  \n\n[5 rows x 377 columns]",
      "text/html": "<div>\n<style scoped>\n    .dataframe tbody tr th:only-of-type {\n        vertical-align: middle;\n    }\n\n    .dataframe tbody tr th {\n        vertical-align: top;\n    }\n\n    .dataframe thead th {\n        text-align: right;\n    }\n</style>\n<table border=\"1\" class=\"dataframe\">\n  <thead>\n    <tr style=\"text-align: right;\">\n      <th></th>\n      <th>y</th>\n      <th>X0</th>\n      <th>X1</th>\n      <th>X2</th>\n      <th>X3</th>\n      <th>X4</th>\n      <th>X5</th>\n      <th>X6</th>\n      <th>X8</th>\n      <th>X10</th>\n      <th>...</th>\n      <th>X375</th>\n      <th>X376</th>\n      <th>X377</th>\n      <th>X378</th>\n      <th>X379</th>\n      <th>X380</th>\n      <th>X382</th>\n      <th>X383</th>\n      <th>X384</th>\n      <th>X385</th>\n    </tr>\n  </thead>\n  <tbody>\n    <tr>\n      <th>0</th>\n      <td>130.81</td>\n      <td>k</td>\n      <td>v</td>\n      <td>at</td>\n      <td>a</td>\n      <td>d</td>\n      <td>u</td>\n      <td>j</td>\n      <td>o</td>\n      <td>0</td>\n      <td>...</td>\n      <td>0</td>\n      <td>0</td>\n      <td>1</td>\n      <td>0</td>\n      <td>0</td>\n      <td>0</td>\n      <td>0</td>\n      <td>0</td>\n      <td>0</td>\n      <td>0</td>\n    </tr>\n    <tr>\n      <th>1</th>\n      <td>88.53</td>\n      <td>k</td>\n      <td>t</td>\n      <td>av</td>\n      <td>e</td>\n      <td>d</td>\n      <td>y</td>\n      <td>l</td>\n      <td>o</td>\n      <td>0</td>\n      <td>...</td>\n      <td>1</td>\n      <td>0</td>\n      <td>0</td>\n      <td>0</td>\n      <td>0</td>\n      <td>0</td>\n      <td>0</td>\n      <td>0</td>\n      <td>0</td>\n      <td>0</td>\n    </tr>\n    <tr>\n      <th>2</th>\n      <td>76.26</td>\n      <td>az</td>\n      <td>w</td>\n      <td>n</td>\n      <td>c</td>\n      <td>d</td>\n      <td>x</td>\n      <td>j</td>\n      <td>x</td>\n      <td>0</td>\n      <td>...</td>\n      <td>0</td>\n      <td>0</td>\n      <td>0</td>\n      <td>0</td>\n      <td>0</td>\n      <td>0</td>\n      <td>1</td>\n      <td>0</td>\n      <td>0</td>\n      <td>0</td>\n    </tr>\n    <tr>\n      <th>3</th>\n      <td>80.62</td>\n      <td>az</td>\n      <td>t</td>\n      <td>n</td>\n      <td>f</td>\n      <td>d</td>\n      <td>x</td>\n      <td>l</td>\n      <td>e</td>\n      <td>0</td>\n      <td>...</td>\n      <td>0</td>\n      <td>0</td>\n      <td>0</td>\n      <td>0</td>\n      <td>0</td>\n      <td>0</td>\n      <td>0</td>\n      <td>0</td>\n      <td>0</td>\n      <td>0</td>\n    </tr>\n    <tr>\n      <th>4</th>\n      <td>78.02</td>\n      <td>az</td>\n      <td>v</td>\n      <td>n</td>\n      <td>f</td>\n      <td>d</td>\n      <td>h</td>\n      <td>d</td>\n      <td>n</td>\n      <td>0</td>\n      <td>...</td>\n      <td>0</td>\n      <td>0</td>\n      <td>0</td>\n      <td>0</td>\n      <td>0</td>\n      <td>0</td>\n      <td>0</td>\n      <td>0</td>\n      <td>0</td>\n      <td>0</td>\n    </tr>\n  </tbody>\n</table>\n<p>5 rows × 377 columns</p>\n</div>"
     },
     "metadata": {},
     "execution_count": 15
    }
   ],
   "source": [
    "train_data.head()"
   ]
  },
  {
   "cell_type": "code",
   "execution_count": 17,
   "metadata": {},
   "outputs": [
    {
     "output_type": "execute_result",
     "data": {
      "text/plain": "   X0 X1  X2 X3 X4 X5 X6 X8  X10  X11  ...  X375  X376  X377  X378  X379  \\\n0  az  v   n  f  d  t  a  w    0    0  ...     0     0     0     1     0   \n1   t  b  ai  a  d  b  g  y    0    0  ...     0     0     1     0     0   \n2  az  v  as  f  d  a  j  j    0    0  ...     0     0     0     1     0   \n3  az  l   n  f  d  z  l  n    0    0  ...     0     0     0     1     0   \n4   w  s  as  c  d  y  i  m    0    0  ...     1     0     0     0     0   \n\n   X380  X382  X383  X384  X385  \n0     0     0     0     0     0  \n1     0     0     0     0     0  \n2     0     0     0     0     0  \n3     0     0     0     0     0  \n4     0     0     0     0     0  \n\n[5 rows x 376 columns]",
      "text/html": "<div>\n<style scoped>\n    .dataframe tbody tr th:only-of-type {\n        vertical-align: middle;\n    }\n\n    .dataframe tbody tr th {\n        vertical-align: top;\n    }\n\n    .dataframe thead th {\n        text-align: right;\n    }\n</style>\n<table border=\"1\" class=\"dataframe\">\n  <thead>\n    <tr style=\"text-align: right;\">\n      <th></th>\n      <th>X0</th>\n      <th>X1</th>\n      <th>X2</th>\n      <th>X3</th>\n      <th>X4</th>\n      <th>X5</th>\n      <th>X6</th>\n      <th>X8</th>\n      <th>X10</th>\n      <th>X11</th>\n      <th>...</th>\n      <th>X375</th>\n      <th>X376</th>\n      <th>X377</th>\n      <th>X378</th>\n      <th>X379</th>\n      <th>X380</th>\n      <th>X382</th>\n      <th>X383</th>\n      <th>X384</th>\n      <th>X385</th>\n    </tr>\n  </thead>\n  <tbody>\n    <tr>\n      <th>0</th>\n      <td>az</td>\n      <td>v</td>\n      <td>n</td>\n      <td>f</td>\n      <td>d</td>\n      <td>t</td>\n      <td>a</td>\n      <td>w</td>\n      <td>0</td>\n      <td>0</td>\n      <td>...</td>\n      <td>0</td>\n      <td>0</td>\n      <td>0</td>\n      <td>1</td>\n      <td>0</td>\n      <td>0</td>\n      <td>0</td>\n      <td>0</td>\n      <td>0</td>\n      <td>0</td>\n    </tr>\n    <tr>\n      <th>1</th>\n      <td>t</td>\n      <td>b</td>\n      <td>ai</td>\n      <td>a</td>\n      <td>d</td>\n      <td>b</td>\n      <td>g</td>\n      <td>y</td>\n      <td>0</td>\n      <td>0</td>\n      <td>...</td>\n      <td>0</td>\n      <td>0</td>\n      <td>1</td>\n      <td>0</td>\n      <td>0</td>\n      <td>0</td>\n      <td>0</td>\n      <td>0</td>\n      <td>0</td>\n      <td>0</td>\n    </tr>\n    <tr>\n      <th>2</th>\n      <td>az</td>\n      <td>v</td>\n      <td>as</td>\n      <td>f</td>\n      <td>d</td>\n      <td>a</td>\n      <td>j</td>\n      <td>j</td>\n      <td>0</td>\n      <td>0</td>\n      <td>...</td>\n      <td>0</td>\n      <td>0</td>\n      <td>0</td>\n      <td>1</td>\n      <td>0</td>\n      <td>0</td>\n      <td>0</td>\n      <td>0</td>\n      <td>0</td>\n      <td>0</td>\n    </tr>\n    <tr>\n      <th>3</th>\n      <td>az</td>\n      <td>l</td>\n      <td>n</td>\n      <td>f</td>\n      <td>d</td>\n      <td>z</td>\n      <td>l</td>\n      <td>n</td>\n      <td>0</td>\n      <td>0</td>\n      <td>...</td>\n      <td>0</td>\n      <td>0</td>\n      <td>0</td>\n      <td>1</td>\n      <td>0</td>\n      <td>0</td>\n      <td>0</td>\n      <td>0</td>\n      <td>0</td>\n      <td>0</td>\n    </tr>\n    <tr>\n      <th>4</th>\n      <td>w</td>\n      <td>s</td>\n      <td>as</td>\n      <td>c</td>\n      <td>d</td>\n      <td>y</td>\n      <td>i</td>\n      <td>m</td>\n      <td>0</td>\n      <td>0</td>\n      <td>...</td>\n      <td>1</td>\n      <td>0</td>\n      <td>0</td>\n      <td>0</td>\n      <td>0</td>\n      <td>0</td>\n      <td>0</td>\n      <td>0</td>\n      <td>0</td>\n      <td>0</td>\n    </tr>\n  </tbody>\n</table>\n<p>5 rows × 376 columns</p>\n</div>"
     },
     "metadata": {},
     "execution_count": 17
    }
   ],
   "source": [
    "test_data.head()"
   ]
  },
  {
   "cell_type": "code",
   "execution_count": 29,
   "metadata": {},
   "outputs": [],
   "source": [
    "zero_var_cols = train_data.var()[train_data.var()==0].index.values"
   ]
  },
  {
   "cell_type": "code",
   "execution_count": 35,
   "metadata": {},
   "outputs": [],
   "source": [
    "train_data.drop(zero_var_cols,axis=1,inplace=True)\n",
    "test_data.drop(zero_var_cols,axis=1,inplace=True)"
   ]
  },
  {
   "cell_type": "code",
   "execution_count": 36,
   "metadata": {},
   "outputs": [
    {
     "output_type": "execute_result",
     "data": {
      "text/plain": "((4209, 365), (4209, 364))"
     },
     "metadata": {},
     "execution_count": 36
    }
   ],
   "source": [
    "train_data.shape, test_data.shape"
   ]
  },
  {
   "cell_type": "code",
   "execution_count": 40,
   "metadata": {},
   "outputs": [],
   "source": [
    "catg_values = train_data.describe(include='object').columns.values"
   ]
  },
  {
   "cell_type": "code",
   "execution_count": 41,
   "metadata": {},
   "outputs": [],
   "source": [
    "le = LabelEncoder()"
   ]
  },
  {
   "cell_type": "code",
   "execution_count": 42,
   "metadata": {},
   "outputs": [],
   "source": [
    "for cat_col in catg_values:\n",
    "    le.fit(train_data[cat_col].append(test_data[cat_col]).values)\n",
    "    train_data[cat_col] = le.transform(train_data[cat_col])\n",
    "    test_data[cat_col] = le.transform(test_data[cat_col])"
   ]
  },
  {
   "cell_type": "code",
   "execution_count": 45,
   "metadata": {},
   "outputs": [],
   "source": [
    "pca = PCA(0.95,svd_solver='full')"
   ]
  },
  {
   "cell_type": "code",
   "execution_count": 47,
   "metadata": {},
   "outputs": [],
   "source": [
    "features = train_data.drop('y',axis=1)\n",
    "target = train_data['y']"
   ]
  },
  {
   "cell_type": "code",
   "execution_count": 49,
   "metadata": {},
   "outputs": [],
   "source": [
    "x_train,x_test,y_train,y_test = train_test_split(features,target,random_state=42,test_size=0.2)"
   ]
  },
  {
   "cell_type": "code",
   "execution_count": 50,
   "metadata": {},
   "outputs": [
    {
     "output_type": "execute_result",
     "data": {
      "text/plain": "PCA(copy=True, iterated_power='auto', n_components=0.95, random_state=None,\n    svd_solver='full', tol=0.0, whiten=False)"
     },
     "metadata": {},
     "execution_count": 50
    }
   ],
   "source": [
    "pca.fit(features)"
   ]
  },
  {
   "cell_type": "code",
   "execution_count": 51,
   "metadata": {},
   "outputs": [],
   "source": [
    "pca_x_train = pd.DataFrame(pca.transform(x_train))\n",
    "pca_x_test = pd.DataFrame(pca.transform(x_test))\n",
    "pca_x_test_data = pd.DataFrame(pca.transform(test_data))"
   ]
  },
  {
   "cell_type": "code",
   "execution_count": 53,
   "metadata": {},
   "outputs": [],
   "source": [
    "xg_model = xgb(objective='reg:squarederror', learning_rate=0.1)"
   ]
  },
  {
   "cell_type": "code",
   "execution_count": 54,
   "metadata": {},
   "outputs": [
    {
     "output_type": "execute_result",
     "data": {
      "text/plain": "XGBRegressor(base_score=0.5, booster=None, colsample_bylevel=1,\n             colsample_bynode=1, colsample_bytree=1, gamma=0, gpu_id=-1,\n             importance_type='gain', interaction_constraints=None,\n             learning_rate=0.1, max_delta_step=0, max_depth=6,\n             min_child_weight=1, missing=nan, monotone_constraints=None,\n             n_estimators=100, n_jobs=0, num_parallel_tree=1,\n             objective='reg:squarederror', random_state=0, reg_alpha=0,\n             reg_lambda=1, scale_pos_weight=1, subsample=1, tree_method=None,\n             validate_parameters=False, verbosity=None)"
     },
     "metadata": {},
     "execution_count": 54
    }
   ],
   "source": [
    "xg_model.fit(pca_x_train,y_train)"
   ]
  },
  {
   "cell_type": "code",
   "execution_count": 55,
   "metadata": {},
   "outputs": [],
   "source": [
    "y_predict = xg_model.predict(pca_x_test)"
   ]
  },
  {
   "cell_type": "code",
   "execution_count": 56,
   "metadata": {},
   "outputs": [
    {
     "output_type": "execute_result",
     "data": {
      "text/plain": "94.30642526708493"
     },
     "metadata": {},
     "execution_count": 56
    }
   ],
   "source": [
    "mean_squared_error(y_test,y_predict)"
   ]
  },
  {
   "cell_type": "code",
   "execution_count": 57,
   "metadata": {},
   "outputs": [
    {
     "output_type": "execute_result",
     "data": {
      "text/plain": "array([ 80.153435,  95.542076,  95.74421 , ..., 108.9599  , 106.75227 ,\n        91.81983 ], dtype=float32)"
     },
     "metadata": {},
     "execution_count": 57
    }
   ],
   "source": [
    "xg_model.predict(pca_x_test_data)"
   ]
  },
  {
   "cell_type": "code",
   "execution_count": null,
   "metadata": {},
   "outputs": [],
   "source": []
  }
 ],
 "metadata": {
  "language_info": {
   "codemirror_mode": {
    "name": "ipython",
    "version": 3
   },
   "file_extension": ".py",
   "mimetype": "text/x-python",
   "name": "python",
   "nbconvert_exporter": "python",
   "pygments_lexer": "ipython3",
   "version": "3.7.7-final"
  },
  "orig_nbformat": 2,
  "kernelspec": {
   "name": "python37764bit5b38b0b479c34d1e9fb201e8a872b45c",
   "display_name": "Python 3.7.7 64-bit"
  }
 },
 "nbformat": 4,
 "nbformat_minor": 2
}